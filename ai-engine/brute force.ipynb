{
 "cells": [
  {
   "cell_type": "code",
   "execution_count": null,
   "id": "77f1a66f-aae3-45e9-a4d6-3abc600f9186",
   "metadata": {},
   "outputs": [],
   "source": [
    "# Simulate targeted brute force with common credentials\n",
    "$users = @(\"root\", \"admin\", \"ubuntu\", \"test\")\n",
    "$passwords = @(\"password\", \"123456\", \"admin\", \"qwerty\")\n",
    "\n",
    "foreach ($user in $users) {\n",
    "    foreach ($pass in $passwords) {\n",
    "        echo \"y\" | ssh $user@localhost -p 22222  # 'echo \"y\"' handles SSH host key prompts\n",
    "        Start-Sleep -Milliseconds 200  # Adds delay between attempts\n",
    "    }\n",
    "}"
   ]
  }
 ],
 "metadata": {
  "kernelspec": {
   "display_name": "Python [conda env:base] *",
   "language": "python",
   "name": "conda-base-py"
  },
  "language_info": {
   "codemirror_mode": {
    "name": "ipython",
    "version": 3
   },
   "file_extension": ".py",
   "mimetype": "text/x-python",
   "name": "python",
   "nbconvert_exporter": "python",
   "pygments_lexer": "ipython3",
   "version": "3.12.7"
  }
 },
 "nbformat": 4,
 "nbformat_minor": 5
}
