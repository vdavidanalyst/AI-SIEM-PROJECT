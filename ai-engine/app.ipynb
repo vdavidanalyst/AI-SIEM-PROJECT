{
 "cells": [
  {
   "cell_type": "code",
   "execution_count": 4,
   "id": "7332c49b-d3de-4846-9295-a26978977656",
   "metadata": {},
   "outputs": [],
   "source": [
    "import streamlit as st\n",
    "import pandas as pd\n",
    "import plotly.express as px\n",
    "import os\n",
    "import threading\n",
    "from watchdog.observers import Observer\n",
    "from watchdog.events import FileSystemEventHandler\n",
    "\n",
    "# === FILE WATCHER SETUP ===\n",
    "class FileChangeHandler(FileSystemEventHandler):\n",
    "    def on_modified(self, event):\n",
    "        if event.src_path.endswith(\"anomalies.csv\"):\n",
    "            print(\"🔁 Detected anomalies.csv update, refreshing dashboard...\")\n",
    "            st.experimental_rerun()\n",
    "\n",
    "def start_file_watcher():\n",
    "    observer = Observer()\n",
    "    handler = FileChangeHandler()\n",
    "    observer.schedule(handler, path=\".\", recursive=False)\n",
    "    observer.start()\n",
    "\n",
    "# Start the file watcher in a background thread\n",
    "threading.Thread(target=start_file_watcher, daemon=True).start()\n",
    "\n",
    "# === DASHBOARD LOGIC BELOW ===\n",
    "\n",
    "st.set_page_config(page_title=\"Anomaly Dashboard\", layout=\"wide\")\n",
    "st.title(\"🔍 AI SIEM Anomaly Detection Dashboard\")\n",
    "\n",
    "# Load anomalies if available\n",
    "anomalies_file = \"anomalies.csv\"\n",
    "if os.path.exists(anomalies_file):\n",
    "    df = pd.read_csv(anomalies_file)\n",
    "    \n",
    "    st.success(f\"✅ Loaded {len(df)} anomalies\")\n",
    "\n",
    "    st.subheader(\"📊 Anomaly Summary\")\n",
    "    st.dataframe(df.head(20), use_container_width=True)\n",
    "\n",
    "    st.subheader(\"📈 Top Attacking IPs\")\n",
    "    top_ips = df['src_ip'].value_counts().head(10).reset_index()\n",
    "    top_ips.columns = ['IP Address', 'Count']\n",
    "    st.plotly_chart(px.bar(top_ips, x='IP Address', y='Count', title=\"Top Attacking IPs\"))\n",
    "\n",
    "    st.subheader(\"💻 Suspicious Commands\")\n",
    "    top_cmds = df['command'].value_counts().head(10).reset_index()\n",
    "    top_cmds.columns = ['Command', 'Count']\n",
    "    st.plotly_chart(px.bar(top_cmds, x='Command', y='Count', title=\"Top Commands\"))\n",
    "\n",
    "else:\n",
    "    st.warning(\"⚠️ No anomalies.csv file found. Run the detection script to generate it.\")\n"
   ]
  },
  {
   "cell_type": "code",
   "execution_count": null,
   "id": "7613d66b-0a3c-42df-87cb-e74d1f9ccda2",
   "metadata": {},
   "outputs": [],
   "source": []
  }
 ],
 "metadata": {
  "kernelspec": {
   "display_name": "Python [conda env:base] *",
   "language": "python",
   "name": "conda-base-py"
  },
  "language_info": {
   "codemirror_mode": {
    "name": "ipython",
    "version": 3
   },
   "file_extension": ".py",
   "mimetype": "text/x-python",
   "name": "python",
   "nbconvert_exporter": "python",
   "pygments_lexer": "ipython3",
   "version": "3.12.7"
  }
 },
 "nbformat": 4,
 "nbformat_minor": 5
}
